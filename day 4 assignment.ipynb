{
 "cells": [
  {
   "cell_type": "code",
   "execution_count": 75,
   "metadata": {},
   "outputs": [
    {
     "name": "stdout",
     "output_type": "stream",
     "text": [
      "match\n",
      "match\n",
      "match\n"
     ]
    }
   ],
   "source": [
    "def fun(b):\n",
    "\n",
    "    k = [1,1,5]\n",
    "    o =[]\n",
    "    n = len(k)\n",
    "    m = len(b)\n",
    "    for j in range(0,m):\n",
    "        for i in range(0,n):\n",
    "            if k[i]==b[j]:\n",
    "                \n",
    "                \n",
    "                print(\"match\")\n",
    "                j = j+1\n",
    "                break\n",
    "                \n",
    "            else:\n",
    "            \n",
    "                i = i+1\n",
    "                continue\n",
    "                \n",
    "    \n",
    "fun([1,2,3,4,1,5])                \n",
    "            \n",
    "    \n",
    "\n",
    "    \n",
    "    \n",
    "    "
   ]
  },
  {
   "cell_type": "code",
   "execution_count": 76,
   "metadata": {},
   "outputs": [
    {
     "name": "stdout",
     "output_type": "stream",
     "text": [
      "[{1, 5}]\n",
      "[[1, 2, 3, 4, 5]]\n",
      "match\n"
     ]
    }
   ],
   "source": [
    "def func(ar):\n",
    "\n",
    "    \n",
    "    s = {1,1,5}\n",
    "    s1 = {}\n",
    "    \n",
    "    print([s])\n",
    "    s1 = ar.copy()\n",
    "    print([s1])\n",
    "    if s.issubset(s1) == True:\n",
    "        print(\"match\")\n",
    "    else:\n",
    "        print(\"gone\")\n",
    "\n",
    "func([1,2,3,4,5])  \n",
    "\n",
    "\n",
    "\n",
    "\n"
   ]
  },
  {
   "cell_type": "code",
   "execution_count": null,
   "metadata": {},
   "outputs": [],
   "source": [
    "\n",
    "\n"
   ]
  }
 ],
 "metadata": {
  "kernelspec": {
   "display_name": "Python 3",
   "language": "python",
   "name": "python3"
  },
  "language_info": {
   "codemirror_mode": {
    "name": "ipython",
    "version": 3
   },
   "file_extension": ".py",
   "mimetype": "text/x-python",
   "name": "python",
   "nbconvert_exporter": "python",
   "pygments_lexer": "ipython3",
   "version": "3.7.4"
  }
 },
 "nbformat": 4,
 "nbformat_minor": 2
}
